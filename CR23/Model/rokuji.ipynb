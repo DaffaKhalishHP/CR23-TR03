{
  "nbformat": 4,
  "nbformat_minor": 0,
  "metadata": {
    "colab": {
      "provenance": []
    },
    "kernelspec": {
      "name": "python3",
      "display_name": "Python 3"
    },
    "language_info": {
      "name": "python"
    }
  },
  "cells": [
    {
      "cell_type": "markdown",
      "source": [
        "**Resources**\n",
        "1.   [Multilabel Classification](https://github.com/ashrefm/multi-label-soft-f1/blob/master/Multi-Label%20Image%20Classification%20in%20TensorFlow%202.0.ipynb)\n",
        "2.   [Preprocessing Layers](https://www.tensorflow.org/tutorials/structured_data/preprocessing_layers)\n",
        "\n"
      ],
      "metadata": {
        "id": "-osUn0NWCTWV"
      }
    },
    {
      "cell_type": "code",
      "source": [
        "import pandas as pd\n",
        "import tensorflow as tf\n",
        "import gdown\n",
        "import numpy as np\n",
        "\n",
        "from sklearn.model_selection import train_test_split\n",
        "from sklearn.preprocessing import MultiLabelBinarizer\n",
        "from tensorflow.keras import layers"
      ],
      "metadata": {
        "id": "lULlPEvBe_T2"
      },
      "execution_count": null,
      "outputs": []
    },
    {
      "cell_type": "code",
      "execution_count": null,
      "metadata": {
        "id": "PUL7yPCqZ1rI",
        "colab": {
          "base_uri": "https://localhost:8080/",
          "height": 279
        },
        "outputId": "4108d37b-37ad-48d0-e25e-4911c337fcbf"
      },
      "outputs": [
        {
          "output_type": "stream",
          "name": "stderr",
          "text": [
            "Downloading...\n",
            "From: https://drive.google.com/uc?id=1PuFzxZ7MykxfG7DWdZwfyIJ9E3elaQTt\n",
            "To: /content/datadummy_grouped.csv\n",
            "100%|██████████| 136k/136k [00:00<00:00, 58.1MB/s]\n"
          ]
        },
        {
          "output_type": "execute_result",
          "data": {
            "text/plain": [
              "   Unnamed: 0            Topics           Sub Topic Type  Difficulty  \\\n",
              "0           0          Back End              Django   S1          22   \n",
              "1           1  Data Engineering    Data Integration   S2          10   \n",
              "2           2       Time-series                LSTM   S2          15   \n",
              "3           3   Computer Vision    Object Detection   S1          12   \n",
              "4           4               NLP  Sentiment Analysis   S2          13   \n",
              "\n",
              "  Project Type                                            Workers  \n",
              "0      Backend  ['Chairul Rizqi', 'Abdullah Nur Hudi', 'Sandri...  \n",
              "1           ML  ['Nyoman Satiya Najwa Sadha', 'Suci Rahmadani'...  \n",
              "2           ML  ['Putu Gede Agung Karna Sampalan', 'Rikip Gina...  \n",
              "3           ML  ['Rikip Ginanjar', 'Farel Eden', 'Bagja Kurnia...  \n",
              "4           ML  ['Alvin Tan', 'Nyoman Satiya Najwa Sadha', 'Pu...  "
            ],
            "text/html": [
              "\n",
              "  <div id=\"df-f1b5ed7c-12cb-4ed9-a48b-4f0c5fd03fb8\">\n",
              "    <div class=\"colab-df-container\">\n",
              "      <div>\n",
              "<style scoped>\n",
              "    .dataframe tbody tr th:only-of-type {\n",
              "        vertical-align: middle;\n",
              "    }\n",
              "\n",
              "    .dataframe tbody tr th {\n",
              "        vertical-align: top;\n",
              "    }\n",
              "\n",
              "    .dataframe thead th {\n",
              "        text-align: right;\n",
              "    }\n",
              "</style>\n",
              "<table border=\"1\" class=\"dataframe\">\n",
              "  <thead>\n",
              "    <tr style=\"text-align: right;\">\n",
              "      <th></th>\n",
              "      <th>Unnamed: 0</th>\n",
              "      <th>Topics</th>\n",
              "      <th>Sub Topic</th>\n",
              "      <th>Type</th>\n",
              "      <th>Difficulty</th>\n",
              "      <th>Project Type</th>\n",
              "      <th>Workers</th>\n",
              "    </tr>\n",
              "  </thead>\n",
              "  <tbody>\n",
              "    <tr>\n",
              "      <th>0</th>\n",
              "      <td>0</td>\n",
              "      <td>Back End</td>\n",
              "      <td>Django</td>\n",
              "      <td>S1</td>\n",
              "      <td>22</td>\n",
              "      <td>Backend</td>\n",
              "      <td>['Chairul Rizqi', 'Abdullah Nur Hudi', 'Sandri...</td>\n",
              "    </tr>\n",
              "    <tr>\n",
              "      <th>1</th>\n",
              "      <td>1</td>\n",
              "      <td>Data Engineering</td>\n",
              "      <td>Data Integration</td>\n",
              "      <td>S2</td>\n",
              "      <td>10</td>\n",
              "      <td>ML</td>\n",
              "      <td>['Nyoman Satiya Najwa Sadha', 'Suci Rahmadani'...</td>\n",
              "    </tr>\n",
              "    <tr>\n",
              "      <th>2</th>\n",
              "      <td>2</td>\n",
              "      <td>Time-series</td>\n",
              "      <td>LSTM</td>\n",
              "      <td>S2</td>\n",
              "      <td>15</td>\n",
              "      <td>ML</td>\n",
              "      <td>['Putu Gede Agung Karna Sampalan', 'Rikip Gina...</td>\n",
              "    </tr>\n",
              "    <tr>\n",
              "      <th>3</th>\n",
              "      <td>3</td>\n",
              "      <td>Computer Vision</td>\n",
              "      <td>Object Detection</td>\n",
              "      <td>S1</td>\n",
              "      <td>12</td>\n",
              "      <td>ML</td>\n",
              "      <td>['Rikip Ginanjar', 'Farel Eden', 'Bagja Kurnia...</td>\n",
              "    </tr>\n",
              "    <tr>\n",
              "      <th>4</th>\n",
              "      <td>4</td>\n",
              "      <td>NLP</td>\n",
              "      <td>Sentiment Analysis</td>\n",
              "      <td>S2</td>\n",
              "      <td>13</td>\n",
              "      <td>ML</td>\n",
              "      <td>['Alvin Tan', 'Nyoman Satiya Najwa Sadha', 'Pu...</td>\n",
              "    </tr>\n",
              "  </tbody>\n",
              "</table>\n",
              "</div>\n",
              "      <button class=\"colab-df-convert\" onclick=\"convertToInteractive('df-f1b5ed7c-12cb-4ed9-a48b-4f0c5fd03fb8')\"\n",
              "              title=\"Convert this dataframe to an interactive table.\"\n",
              "              style=\"display:none;\">\n",
              "        \n",
              "  <svg xmlns=\"http://www.w3.org/2000/svg\" height=\"24px\"viewBox=\"0 0 24 24\"\n",
              "       width=\"24px\">\n",
              "    <path d=\"M0 0h24v24H0V0z\" fill=\"none\"/>\n",
              "    <path d=\"M18.56 5.44l.94 2.06.94-2.06 2.06-.94-2.06-.94-.94-2.06-.94 2.06-2.06.94zm-11 1L8.5 8.5l.94-2.06 2.06-.94-2.06-.94L8.5 2.5l-.94 2.06-2.06.94zm10 10l.94 2.06.94-2.06 2.06-.94-2.06-.94-.94-2.06-.94 2.06-2.06.94z\"/><path d=\"M17.41 7.96l-1.37-1.37c-.4-.4-.92-.59-1.43-.59-.52 0-1.04.2-1.43.59L10.3 9.45l-7.72 7.72c-.78.78-.78 2.05 0 2.83L4 21.41c.39.39.9.59 1.41.59.51 0 1.02-.2 1.41-.59l7.78-7.78 2.81-2.81c.8-.78.8-2.07 0-2.86zM5.41 20L4 18.59l7.72-7.72 1.47 1.35L5.41 20z\"/>\n",
              "  </svg>\n",
              "      </button>\n",
              "      \n",
              "  <style>\n",
              "    .colab-df-container {\n",
              "      display:flex;\n",
              "      flex-wrap:wrap;\n",
              "      gap: 12px;\n",
              "    }\n",
              "\n",
              "    .colab-df-convert {\n",
              "      background-color: #E8F0FE;\n",
              "      border: none;\n",
              "      border-radius: 50%;\n",
              "      cursor: pointer;\n",
              "      display: none;\n",
              "      fill: #1967D2;\n",
              "      height: 32px;\n",
              "      padding: 0 0 0 0;\n",
              "      width: 32px;\n",
              "    }\n",
              "\n",
              "    .colab-df-convert:hover {\n",
              "      background-color: #E2EBFA;\n",
              "      box-shadow: 0px 1px 2px rgba(60, 64, 67, 0.3), 0px 1px 3px 1px rgba(60, 64, 67, 0.15);\n",
              "      fill: #174EA6;\n",
              "    }\n",
              "\n",
              "    [theme=dark] .colab-df-convert {\n",
              "      background-color: #3B4455;\n",
              "      fill: #D2E3FC;\n",
              "    }\n",
              "\n",
              "    [theme=dark] .colab-df-convert:hover {\n",
              "      background-color: #434B5C;\n",
              "      box-shadow: 0px 1px 3px 1px rgba(0, 0, 0, 0.15);\n",
              "      filter: drop-shadow(0px 1px 2px rgba(0, 0, 0, 0.3));\n",
              "      fill: #FFFFFF;\n",
              "    }\n",
              "  </style>\n",
              "\n",
              "      <script>\n",
              "        const buttonEl =\n",
              "          document.querySelector('#df-f1b5ed7c-12cb-4ed9-a48b-4f0c5fd03fb8 button.colab-df-convert');\n",
              "        buttonEl.style.display =\n",
              "          google.colab.kernel.accessAllowed ? 'block' : 'none';\n",
              "\n",
              "        async function convertToInteractive(key) {\n",
              "          const element = document.querySelector('#df-f1b5ed7c-12cb-4ed9-a48b-4f0c5fd03fb8');\n",
              "          const dataTable =\n",
              "            await google.colab.kernel.invokeFunction('convertToInteractive',\n",
              "                                                     [key], {});\n",
              "          if (!dataTable) return;\n",
              "\n",
              "          const docLinkHtml = 'Like what you see? Visit the ' +\n",
              "            '<a target=\"_blank\" href=https://colab.research.google.com/notebooks/data_table.ipynb>data table notebook</a>'\n",
              "            + ' to learn more about interactive tables.';\n",
              "          element.innerHTML = '';\n",
              "          dataTable['output_type'] = 'display_data';\n",
              "          await google.colab.output.renderOutput(dataTable, element);\n",
              "          const docLink = document.createElement('div');\n",
              "          docLink.innerHTML = docLinkHtml;\n",
              "          element.appendChild(docLink);\n",
              "        }\n",
              "      </script>\n",
              "    </div>\n",
              "  </div>\n",
              "  "
            ]
          },
          "metadata": {},
          "execution_count": 2
        }
      ],
      "source": [
        "# Preparing the pandas dataframe\n",
        "\n",
        "id = \"1PuFzxZ7MykxfG7DWdZwfyIJ9E3elaQTt\"\n",
        "output = \"datadummy_grouped.csv\"\n",
        "gdown.download(id=id, output=output, quiet=False)\n",
        "\n",
        "df = pd.read_csv(\"/content/datadummy_grouped.csv\")\n",
        "df.head()"
      ]
    },
    {
      "cell_type": "code",
      "source": [
        "# Cleaning the unused columns\n",
        "df = df.drop(df.columns[[0,3]], axis=1)\n",
        "\n",
        "# Transform 'Workers' from strings into lists\n",
        "df['Workers'] = df['Workers'].str.replace(\"[\\'\\[\\]]\",\"\",regex=True)\n",
        "df['Workers'] = df['Workers'].str.replace(\", \",\"|\",regex=True)\n",
        "df['Workers'] = df['Workers'].apply(lambda s: [l for l in str(s).split('|')])\n",
        "df.head()"
      ],
      "metadata": {
        "id": "g-84lXSmKGG3",
        "colab": {
          "base_uri": "https://localhost:8080/",
          "height": 206
        },
        "outputId": "35a590af-51c6-4fd8-abc4-dc22fe20d5d9"
      },
      "execution_count": null,
      "outputs": [
        {
          "output_type": "execute_result",
          "data": {
            "text/plain": [
              "             Topics           Sub Topic  Difficulty Project Type  \\\n",
              "0          Back End              Django          22      Backend   \n",
              "1  Data Engineering    Data Integration          10           ML   \n",
              "2       Time-series                LSTM          15           ML   \n",
              "3   Computer Vision    Object Detection          12           ML   \n",
              "4               NLP  Sentiment Analysis          13           ML   \n",
              "\n",
              "                                             Workers  \n",
              "0  [Chairul Rizqi, Abdullah Nur Hudi, Sandrian Yu...  \n",
              "1  [Nyoman Satiya Najwa Sadha, Suci Rahmadani, Az...  \n",
              "2  [Putu Gede Agung Karna Sampalan, Rikip Ginanja...  \n",
              "3  [Rikip Ginanjar, Farel Eden, Bagja Kurniadi, S...  \n",
              "4  [Alvin Tan, Nyoman Satiya Najwa Sadha, Putu Ge...  "
            ],
            "text/html": [
              "\n",
              "  <div id=\"df-c786d237-ba88-415a-b2ad-7374fad15322\">\n",
              "    <div class=\"colab-df-container\">\n",
              "      <div>\n",
              "<style scoped>\n",
              "    .dataframe tbody tr th:only-of-type {\n",
              "        vertical-align: middle;\n",
              "    }\n",
              "\n",
              "    .dataframe tbody tr th {\n",
              "        vertical-align: top;\n",
              "    }\n",
              "\n",
              "    .dataframe thead th {\n",
              "        text-align: right;\n",
              "    }\n",
              "</style>\n",
              "<table border=\"1\" class=\"dataframe\">\n",
              "  <thead>\n",
              "    <tr style=\"text-align: right;\">\n",
              "      <th></th>\n",
              "      <th>Topics</th>\n",
              "      <th>Sub Topic</th>\n",
              "      <th>Difficulty</th>\n",
              "      <th>Project Type</th>\n",
              "      <th>Workers</th>\n",
              "    </tr>\n",
              "  </thead>\n",
              "  <tbody>\n",
              "    <tr>\n",
              "      <th>0</th>\n",
              "      <td>Back End</td>\n",
              "      <td>Django</td>\n",
              "      <td>22</td>\n",
              "      <td>Backend</td>\n",
              "      <td>[Chairul Rizqi, Abdullah Nur Hudi, Sandrian Yu...</td>\n",
              "    </tr>\n",
              "    <tr>\n",
              "      <th>1</th>\n",
              "      <td>Data Engineering</td>\n",
              "      <td>Data Integration</td>\n",
              "      <td>10</td>\n",
              "      <td>ML</td>\n",
              "      <td>[Nyoman Satiya Najwa Sadha, Suci Rahmadani, Az...</td>\n",
              "    </tr>\n",
              "    <tr>\n",
              "      <th>2</th>\n",
              "      <td>Time-series</td>\n",
              "      <td>LSTM</td>\n",
              "      <td>15</td>\n",
              "      <td>ML</td>\n",
              "      <td>[Putu Gede Agung Karna Sampalan, Rikip Ginanja...</td>\n",
              "    </tr>\n",
              "    <tr>\n",
              "      <th>3</th>\n",
              "      <td>Computer Vision</td>\n",
              "      <td>Object Detection</td>\n",
              "      <td>12</td>\n",
              "      <td>ML</td>\n",
              "      <td>[Rikip Ginanjar, Farel Eden, Bagja Kurniadi, S...</td>\n",
              "    </tr>\n",
              "    <tr>\n",
              "      <th>4</th>\n",
              "      <td>NLP</td>\n",
              "      <td>Sentiment Analysis</td>\n",
              "      <td>13</td>\n",
              "      <td>ML</td>\n",
              "      <td>[Alvin Tan, Nyoman Satiya Najwa Sadha, Putu Ge...</td>\n",
              "    </tr>\n",
              "  </tbody>\n",
              "</table>\n",
              "</div>\n",
              "      <button class=\"colab-df-convert\" onclick=\"convertToInteractive('df-c786d237-ba88-415a-b2ad-7374fad15322')\"\n",
              "              title=\"Convert this dataframe to an interactive table.\"\n",
              "              style=\"display:none;\">\n",
              "        \n",
              "  <svg xmlns=\"http://www.w3.org/2000/svg\" height=\"24px\"viewBox=\"0 0 24 24\"\n",
              "       width=\"24px\">\n",
              "    <path d=\"M0 0h24v24H0V0z\" fill=\"none\"/>\n",
              "    <path d=\"M18.56 5.44l.94 2.06.94-2.06 2.06-.94-2.06-.94-.94-2.06-.94 2.06-2.06.94zm-11 1L8.5 8.5l.94-2.06 2.06-.94-2.06-.94L8.5 2.5l-.94 2.06-2.06.94zm10 10l.94 2.06.94-2.06 2.06-.94-2.06-.94-.94-2.06-.94 2.06-2.06.94z\"/><path d=\"M17.41 7.96l-1.37-1.37c-.4-.4-.92-.59-1.43-.59-.52 0-1.04.2-1.43.59L10.3 9.45l-7.72 7.72c-.78.78-.78 2.05 0 2.83L4 21.41c.39.39.9.59 1.41.59.51 0 1.02-.2 1.41-.59l7.78-7.78 2.81-2.81c.8-.78.8-2.07 0-2.86zM5.41 20L4 18.59l7.72-7.72 1.47 1.35L5.41 20z\"/>\n",
              "  </svg>\n",
              "      </button>\n",
              "      \n",
              "  <style>\n",
              "    .colab-df-container {\n",
              "      display:flex;\n",
              "      flex-wrap:wrap;\n",
              "      gap: 12px;\n",
              "    }\n",
              "\n",
              "    .colab-df-convert {\n",
              "      background-color: #E8F0FE;\n",
              "      border: none;\n",
              "      border-radius: 50%;\n",
              "      cursor: pointer;\n",
              "      display: none;\n",
              "      fill: #1967D2;\n",
              "      height: 32px;\n",
              "      padding: 0 0 0 0;\n",
              "      width: 32px;\n",
              "    }\n",
              "\n",
              "    .colab-df-convert:hover {\n",
              "      background-color: #E2EBFA;\n",
              "      box-shadow: 0px 1px 2px rgba(60, 64, 67, 0.3), 0px 1px 3px 1px rgba(60, 64, 67, 0.15);\n",
              "      fill: #174EA6;\n",
              "    }\n",
              "\n",
              "    [theme=dark] .colab-df-convert {\n",
              "      background-color: #3B4455;\n",
              "      fill: #D2E3FC;\n",
              "    }\n",
              "\n",
              "    [theme=dark] .colab-df-convert:hover {\n",
              "      background-color: #434B5C;\n",
              "      box-shadow: 0px 1px 3px 1px rgba(0, 0, 0, 0.15);\n",
              "      filter: drop-shadow(0px 1px 2px rgba(0, 0, 0, 0.3));\n",
              "      fill: #FFFFFF;\n",
              "    }\n",
              "  </style>\n",
              "\n",
              "      <script>\n",
              "        const buttonEl =\n",
              "          document.querySelector('#df-c786d237-ba88-415a-b2ad-7374fad15322 button.colab-df-convert');\n",
              "        buttonEl.style.display =\n",
              "          google.colab.kernel.accessAllowed ? 'block' : 'none';\n",
              "\n",
              "        async function convertToInteractive(key) {\n",
              "          const element = document.querySelector('#df-c786d237-ba88-415a-b2ad-7374fad15322');\n",
              "          const dataTable =\n",
              "            await google.colab.kernel.invokeFunction('convertToInteractive',\n",
              "                                                     [key], {});\n",
              "          if (!dataTable) return;\n",
              "\n",
              "          const docLinkHtml = 'Like what you see? Visit the ' +\n",
              "            '<a target=\"_blank\" href=https://colab.research.google.com/notebooks/data_table.ipynb>data table notebook</a>'\n",
              "            + ' to learn more about interactive tables.';\n",
              "          element.innerHTML = '';\n",
              "          dataTable['output_type'] = 'display_data';\n",
              "          await google.colab.output.renderOutput(dataTable, element);\n",
              "          const docLink = document.createElement('div');\n",
              "          docLink.innerHTML = docLinkHtml;\n",
              "          element.appendChild(docLink);\n",
              "        }\n",
              "      </script>\n",
              "    </div>\n",
              "  </div>\n",
              "  "
            ]
          },
          "metadata": {},
          "execution_count": 3
        }
      ]
    },
    {
      "cell_type": "code",
      "source": [
        "# Creating list of labels\n",
        "labels_list = df['Workers']\n",
        "labels_list = list(labels_list)\n",
        "mlb = MultiLabelBinarizer()\n",
        "mlb.fit(labels_list)\n",
        "\n",
        "N_LABELS = len(mlb.classes_)\n",
        "for (i, label) in enumerate(mlb.classes_):\n",
        "    print(\"{}. {}\".format(i, label))"
      ],
      "metadata": {
        "id": "ErsB_KQixsyA",
        "colab": {
          "base_uri": "https://localhost:8080/"
        },
        "outputId": "8df8d948-0796-45f1-b4a2-6b1144de2faa"
      },
      "execution_count": null,
      "outputs": [
        {
          "output_type": "stream",
          "name": "stdout",
          "text": [
            "0. Abdullah Nur Hudi\n",
            "1. Abiyyu Diora Haqi\n",
            "2. Alvin Tan\n",
            "3. Andhika Zulfikri\n",
            "4. Andi Rezal Oktavianto\n",
            "5. Azis Sofyanto\n",
            "6. Bagja Kurniadi\n",
            "7. Chairul Rizqi\n",
            "8. Christopher Kristianto\n",
            "9. Farel Eden\n",
            "10. Gabriel Kheisa\n",
            "11. I Putu Ranantha Nugraha Suparta\n",
            "12. Iga Narendra Pramawijaya\n",
            "13. Imam\n",
            "14. Muhammad Raden Syawali Akbar\n",
            "15. Nyoman Satiya Najwa Sadha\n",
            "16. Putu Gede Agung Karna Sampalan\n",
            "17. Rikip Ginanjar\n",
            "18. Sandrian Yulianto\n",
            "19. Sarah Sema Khairunisa\n",
            "20. Suci Rahmadani\n",
            "21. Vania Kylie\n",
            "22. Wahyu Fauzan\n"
          ]
        }
      ]
    },
    {
      "cell_type": "code",
      "source": [
        "df['Workers']"
      ],
      "metadata": {
        "colab": {
          "base_uri": "https://localhost:8080/"
        },
        "id": "r39PJ_dnRgDX",
        "outputId": "c68119da-c887-4984-82c0-31d95431a8f1"
      },
      "execution_count": null,
      "outputs": [
        {
          "output_type": "execute_result",
          "data": {
            "text/plain": [
              "0      [Chairul Rizqi, Abdullah Nur Hudi, Sandrian Yu...\n",
              "1      [Nyoman Satiya Najwa Sadha, Suci Rahmadani, Az...\n",
              "2      [Putu Gede Agung Karna Sampalan, Rikip Ginanja...\n",
              "3      [Rikip Ginanjar, Farel Eden, Bagja Kurniadi, S...\n",
              "4      [Alvin Tan, Nyoman Satiya Najwa Sadha, Putu Ge...\n",
              "                             ...                        \n",
              "995    [Farel Eden, I Putu Ranantha Nugraha Suparta, ...\n",
              "996    [Farel Eden, Christopher Kristianto, Putu Gede...\n",
              "997    [Imam, Iga Narendra Pramawijaya, Muhammad Rade...\n",
              "998    [Gabriel Kheisa, Andhika Zulfikri, Rikip Ginan...\n",
              "999    [Muhammad Raden Syawali Akbar, Andi Rezal Okta...\n",
              "Name: Workers, Length: 1000, dtype: object"
            ]
          },
          "metadata": {},
          "execution_count": 5
        }
      ]
    },
    {
      "cell_type": "code",
      "source": [
        "# Split the dataframe\n",
        "\n",
        "# Daffa ganti ke 0.2 bentar\n",
        "\n",
        "train, test = train_test_split(df, test_size=0.1)\n",
        "train, val = train_test_split(train, test_size=0.1)\n",
        "print(len(train), 'train examples')\n",
        "print(len(val), 'validation examples')\n",
        "print(len(test), 'test examples')"
      ],
      "metadata": {
        "id": "5JI6q5hhvsTO",
        "colab": {
          "base_uri": "https://localhost:8080/"
        },
        "outputId": "a517a9cd-a45f-413f-c9f0-0e1443b1f82c"
      },
      "execution_count": null,
      "outputs": [
        {
          "output_type": "stream",
          "name": "stdout",
          "text": [
            "810 train examples\n",
            "90 validation examples\n",
            "100 test examples\n"
          ]
        }
      ]
    },
    {
      "cell_type": "code",
      "source": [
        "# Input panda dataframe into tf.data pipeline\n",
        "\n",
        "mlb = MultiLabelBinarizer()\n",
        "mlb.fit(df['Workers'])\n",
        "\n",
        "def df_to_dataset(dataframe, shuffle=True, batch_size=40):\n",
        "  df = dataframe.copy() # copying the dataframe\n",
        "  labels = df.pop('Workers') # separating the labels\n",
        "\n",
        "  # Fit the multi-label binarizer on the training labels\n",
        "  labels = list(labels)\n",
        "  labels_bin = mlb.transform(labels).tolist()\n",
        "  #labels_bin = pd.DataFrame(labels_bin, columns = ['Workers'])\n",
        "  \n",
        "  df = {key: value[:,tf.newaxis] for key, value in df.items()} # x\n",
        "  ds = tf.data.Dataset.from_tensor_slices((dict(df), labels_bin))\n",
        "  \n",
        "  if shuffle:\n",
        "    ds = ds.shuffle(buffer_size=len(dataframe))\n",
        "  ds = ds.batch(batch_size)\n",
        "  ds = ds.prefetch(batch_size)\n",
        "  return ds"
      ],
      "metadata": {
        "id": "WWZTnvmzwZJB"
      },
      "execution_count": null,
      "outputs": []
    },
    {
      "cell_type": "code",
      "source": [
        "# Numerical Columns\n",
        "\n",
        "def get_normalization_layer(name, dataset):\n",
        "  # Create a Normalization layer for the feature.\n",
        "  normalizer = layers.Normalization(axis=None)\n",
        "\n",
        "  # Prepare a Dataset that only yields the feature.\n",
        "  feature_ds = dataset.map(lambda x, y: x[name])\n",
        "\n",
        "  # Learn the statistics of the data.\n",
        "  normalizer.adapt(feature_ds)\n",
        "\n",
        "  return normalizer"
      ],
      "metadata": {
        "id": "il9IVV3a09iT"
      },
      "execution_count": null,
      "outputs": []
    },
    {
      "cell_type": "code",
      "source": [
        "# Categorical Columns\n",
        "\n",
        "def get_category_encoding_layer(name, dataset, dtype, max_tokens=None):\n",
        "  # Create a layer that turns strings into integer indices.\n",
        "  if dtype == 'string':\n",
        "    index = layers.StringLookup(max_tokens=max_tokens)\n",
        "  # Otherwise, create a layer that turns integer values into integer indices.\n",
        "  else:\n",
        "    index = layers.IntegerLookup(max_tokens=max_tokens)\n",
        "\n",
        "  # Prepare a `tf.data.Dataset` that only yields the feature.\n",
        "  feature_ds = dataset.map(lambda x, y: x[name])\n",
        "\n",
        "  # Learn the set of possible values and assign them a fixed integer index.\n",
        "  index.adapt(feature_ds)\n",
        "\n",
        "  # Encode the integer indices.\n",
        "  encoder = layers.CategoryEncoding(num_tokens=index.vocabulary_size())\n",
        "\n",
        "  # Apply multi-hot encoding to the indices. The lambda function captures the\n",
        "  # layer, so you can use them, or include them in the Keras Functional model later.\n",
        "  return lambda feature: encoder(index(feature))"
      ],
      "metadata": {
        "id": "nxWY6i881GCG"
      },
      "execution_count": null,
      "outputs": []
    },
    {
      "cell_type": "code",
      "source": [
        "# Split and preprocess the dataframe\n",
        "\n",
        "batch_size = 10\n",
        "train_ds = df_to_dataset(train, shuffle=True, batch_size=batch_size)\n",
        "val_ds = df_to_dataset(val, shuffle=False, batch_size=batch_size)\n",
        "test_ds = df_to_dataset(test, shuffle=False, batch_size=batch_size)"
      ],
      "metadata": {
        "id": "F2U8HcPl1Wme",
        "colab": {
          "base_uri": "https://localhost:8080/"
        },
        "outputId": "6a5108c9-3f2c-41c4-d048-9e893497fbb8"
      },
      "execution_count": null,
      "outputs": [
        {
          "output_type": "stream",
          "name": "stderr",
          "text": [
            "<ipython-input-7-ff026ce6b2cd>:15: FutureWarning: Support for multi-dimensional indexing (e.g. `obj[:, None]`) is deprecated and will be removed in a future version.  Convert to a numpy array before indexing instead.\n",
            "  df = {key: value[:,tf.newaxis] for key, value in df.items()} # x\n"
          ]
        }
      ]
    },
    {
      "cell_type": "code",
      "source": [
        "all_inputs = []\n",
        "encoded_features = []\n",
        "\n",
        "# Numerical features\n",
        "\n",
        "\n",
        "numeric_cols = ['Difficulty']\n",
        "\n",
        "for header in numeric_cols:\n",
        "  numeric_col = tf.keras.Input(shape=(1,), name=header)\n",
        "  normalization_layer = get_normalization_layer(header, train_ds)\n",
        "  encoded_numeric_col = normalization_layer(numeric_col)\n",
        "  all_inputs.append(numeric_col)\n",
        "  encoded_features.append(encoded_numeric_col)\n",
        "\n",
        "# Categorical features\n",
        "\n",
        "categorical_cols = ['Topics', 'Sub Topic', 'Project Type']\n",
        "\n",
        "for header in categorical_cols:\n",
        "  categorical_col = tf.keras.Input(shape=(1,), name=header, dtype='string')\n",
        "  encoding_layer = get_category_encoding_layer(name=header,\n",
        "                                               dataset=train_ds,\n",
        "                                               dtype='string')\n",
        "  encoded_categorical_col = encoding_layer(categorical_col)\n",
        "  all_inputs.append(categorical_col)\n",
        "  encoded_features.append(encoded_categorical_col)\n",
        "\n",
        "\n"
      ],
      "metadata": {
        "id": "P3AQfcd-1ft1"
      },
      "execution_count": null,
      "outputs": []
    },
    {
      "cell_type": "code",
      "source": [
        "#Encode the Validation data and Test Data\n",
        "\n"
      ],
      "metadata": {
        "id": "nRzKtfe4oXxk"
      },
      "execution_count": null,
      "outputs": []
    },
    {
      "cell_type": "code",
      "source": [
        "# Creating the model\n",
        "\n",
        "all_features = tf.keras.layers.concatenate(encoded_features)\n",
        "x = tf.keras.layers.Dense(42, activation=\"relu\")(all_features)\n",
        "x = tf.keras.layers.Dense(35, activation='softmax')(x)\n",
        "x = tf.keras.layers.Dense(128, activation='softmax')(x)\n",
        "output = tf.keras.layers.Dense(N_LABELS, activation='softmax')(x)\n",
        "\n",
        "model = tf.keras.Model(all_inputs, output)\n",
        "\n"
      ],
      "metadata": {
        "id": "8tHatKs92s7Q",
        "colab": {
          "base_uri": "https://localhost:8080/",
          "height": 363
        },
        "outputId": "087f6fd1-2fa9-4a40-9574-a56196e84da7"
      },
      "execution_count": null,
      "outputs": [
        {
          "output_type": "error",
          "ename": "ValueError",
          "evalue": "ignored",
          "traceback": [
            "\u001b[0;31m---------------------------------------------------------------------------\u001b[0m",
            "\u001b[0;31mValueError\u001b[0m                                Traceback (most recent call last)",
            "\u001b[0;32m<ipython-input-25-cf2f35177408>\u001b[0m in \u001b[0;36m<cell line: 9>\u001b[0;34m()\u001b[0m\n\u001b[1;32m      7\u001b[0m \u001b[0moutput\u001b[0m \u001b[0;34m=\u001b[0m \u001b[0mtf\u001b[0m\u001b[0;34m.\u001b[0m\u001b[0mkeras\u001b[0m\u001b[0;34m.\u001b[0m\u001b[0mlayers\u001b[0m\u001b[0;34m.\u001b[0m\u001b[0mDense\u001b[0m\u001b[0;34m(\u001b[0m\u001b[0mN_LABELS\u001b[0m\u001b[0;34m,\u001b[0m \u001b[0mactivation\u001b[0m\u001b[0;34m=\u001b[0m\u001b[0;34m'softmax'\u001b[0m\u001b[0;34m)\u001b[0m\u001b[0;34m(\u001b[0m\u001b[0mx\u001b[0m\u001b[0;34m)\u001b[0m\u001b[0;34m\u001b[0m\u001b[0;34m\u001b[0m\u001b[0m\n\u001b[1;32m      8\u001b[0m \u001b[0;34m\u001b[0m\u001b[0m\n\u001b[0;32m----> 9\u001b[0;31m \u001b[0mmodel\u001b[0m \u001b[0;34m=\u001b[0m \u001b[0mtf\u001b[0m\u001b[0;34m.\u001b[0m\u001b[0mkeras\u001b[0m\u001b[0;34m.\u001b[0m\u001b[0mModel\u001b[0m\u001b[0;34m(\u001b[0m\u001b[0mall_inputs\u001b[0m\u001b[0;34m,\u001b[0m \u001b[0moutput\u001b[0m\u001b[0;34m)\u001b[0m\u001b[0;34m\u001b[0m\u001b[0;34m\u001b[0m\u001b[0m\n\u001b[0m\u001b[1;32m     10\u001b[0m \u001b[0;34m\u001b[0m\u001b[0m\n",
            "\u001b[0;32m/usr/local/lib/python3.10/dist-packages/tensorflow/python/trackable/base.py\u001b[0m in \u001b[0;36m_method_wrapper\u001b[0;34m(self, *args, **kwargs)\u001b[0m\n\u001b[1;32m    203\u001b[0m     \u001b[0mself\u001b[0m\u001b[0;34m.\u001b[0m\u001b[0m_self_setattr_tracking\u001b[0m \u001b[0;34m=\u001b[0m \u001b[0;32mFalse\u001b[0m  \u001b[0;31m# pylint: disable=protected-access\u001b[0m\u001b[0;34m\u001b[0m\u001b[0;34m\u001b[0m\u001b[0m\n\u001b[1;32m    204\u001b[0m     \u001b[0;32mtry\u001b[0m\u001b[0;34m:\u001b[0m\u001b[0;34m\u001b[0m\u001b[0;34m\u001b[0m\u001b[0m\n\u001b[0;32m--> 205\u001b[0;31m       \u001b[0mresult\u001b[0m \u001b[0;34m=\u001b[0m \u001b[0mmethod\u001b[0m\u001b[0;34m(\u001b[0m\u001b[0mself\u001b[0m\u001b[0;34m,\u001b[0m \u001b[0;34m*\u001b[0m\u001b[0margs\u001b[0m\u001b[0;34m,\u001b[0m \u001b[0;34m**\u001b[0m\u001b[0mkwargs\u001b[0m\u001b[0;34m)\u001b[0m\u001b[0;34m\u001b[0m\u001b[0;34m\u001b[0m\u001b[0m\n\u001b[0m\u001b[1;32m    206\u001b[0m     \u001b[0;32mfinally\u001b[0m\u001b[0;34m:\u001b[0m\u001b[0;34m\u001b[0m\u001b[0;34m\u001b[0m\u001b[0m\n\u001b[1;32m    207\u001b[0m       \u001b[0mself\u001b[0m\u001b[0;34m.\u001b[0m\u001b[0m_self_setattr_tracking\u001b[0m \u001b[0;34m=\u001b[0m \u001b[0mprevious_value\u001b[0m  \u001b[0;31m# pylint: disable=protected-access\u001b[0m\u001b[0;34m\u001b[0m\u001b[0;34m\u001b[0m\u001b[0m\n",
            "\u001b[0;32m/usr/local/lib/python3.10/dist-packages/keras/engine/functional.py\u001b[0m in \u001b[0;36m__init__\u001b[0;34m(self, inputs, outputs, name, trainable, **kwargs)\u001b[0m\n\u001b[1;32m    165\u001b[0m                     \u001b[0minputs\u001b[0m\u001b[0;34m,\u001b[0m \u001b[0moutputs\u001b[0m\u001b[0;34m\u001b[0m\u001b[0;34m\u001b[0m\u001b[0m\n\u001b[1;32m    166\u001b[0m                 )\n\u001b[0;32m--> 167\u001b[0;31m         \u001b[0mself\u001b[0m\u001b[0;34m.\u001b[0m\u001b[0m_init_graph_network\u001b[0m\u001b[0;34m(\u001b[0m\u001b[0minputs\u001b[0m\u001b[0;34m,\u001b[0m \u001b[0moutputs\u001b[0m\u001b[0;34m)\u001b[0m\u001b[0;34m\u001b[0m\u001b[0;34m\u001b[0m\u001b[0m\n\u001b[0m\u001b[1;32m    168\u001b[0m \u001b[0;34m\u001b[0m\u001b[0m\n\u001b[1;32m    169\u001b[0m     \u001b[0;34m@\u001b[0m\u001b[0mtf\u001b[0m\u001b[0;34m.\u001b[0m\u001b[0m__internal__\u001b[0m\u001b[0;34m.\u001b[0m\u001b[0mtracking\u001b[0m\u001b[0;34m.\u001b[0m\u001b[0mno_automatic_dependency_tracking\u001b[0m\u001b[0;34m\u001b[0m\u001b[0;34m\u001b[0m\u001b[0m\n",
            "\u001b[0;32m/usr/local/lib/python3.10/dist-packages/tensorflow/python/trackable/base.py\u001b[0m in \u001b[0;36m_method_wrapper\u001b[0;34m(self, *args, **kwargs)\u001b[0m\n\u001b[1;32m    203\u001b[0m     \u001b[0mself\u001b[0m\u001b[0;34m.\u001b[0m\u001b[0m_self_setattr_tracking\u001b[0m \u001b[0;34m=\u001b[0m \u001b[0;32mFalse\u001b[0m  \u001b[0;31m# pylint: disable=protected-access\u001b[0m\u001b[0;34m\u001b[0m\u001b[0;34m\u001b[0m\u001b[0m\n\u001b[1;32m    204\u001b[0m     \u001b[0;32mtry\u001b[0m\u001b[0;34m:\u001b[0m\u001b[0;34m\u001b[0m\u001b[0;34m\u001b[0m\u001b[0m\n\u001b[0;32m--> 205\u001b[0;31m       \u001b[0mresult\u001b[0m \u001b[0;34m=\u001b[0m \u001b[0mmethod\u001b[0m\u001b[0;34m(\u001b[0m\u001b[0mself\u001b[0m\u001b[0;34m,\u001b[0m \u001b[0;34m*\u001b[0m\u001b[0margs\u001b[0m\u001b[0;34m,\u001b[0m \u001b[0;34m**\u001b[0m\u001b[0mkwargs\u001b[0m\u001b[0;34m)\u001b[0m\u001b[0;34m\u001b[0m\u001b[0;34m\u001b[0m\u001b[0m\n\u001b[0m\u001b[1;32m    206\u001b[0m     \u001b[0;32mfinally\u001b[0m\u001b[0;34m:\u001b[0m\u001b[0;34m\u001b[0m\u001b[0;34m\u001b[0m\u001b[0m\n\u001b[1;32m    207\u001b[0m       \u001b[0mself\u001b[0m\u001b[0;34m.\u001b[0m\u001b[0m_self_setattr_tracking\u001b[0m \u001b[0;34m=\u001b[0m \u001b[0mprevious_value\u001b[0m  \u001b[0;31m# pylint: disable=protected-access\u001b[0m\u001b[0;34m\u001b[0m\u001b[0;34m\u001b[0m\u001b[0m\n",
            "\u001b[0;32m/usr/local/lib/python3.10/dist-packages/keras/engine/functional.py\u001b[0m in \u001b[0;36m_init_graph_network\u001b[0;34m(self, inputs, outputs)\u001b[0m\n\u001b[1;32m    264\u001b[0m \u001b[0;34m\u001b[0m\u001b[0m\n\u001b[1;32m    265\u001b[0m         \u001b[0;31m# Keep track of the network's nodes and layers.\u001b[0m\u001b[0;34m\u001b[0m\u001b[0;34m\u001b[0m\u001b[0m\n\u001b[0;32m--> 266\u001b[0;31m         nodes, nodes_by_depth, layers, _ = _map_graph_network(\n\u001b[0m\u001b[1;32m    267\u001b[0m             \u001b[0mself\u001b[0m\u001b[0;34m.\u001b[0m\u001b[0minputs\u001b[0m\u001b[0;34m,\u001b[0m \u001b[0mself\u001b[0m\u001b[0;34m.\u001b[0m\u001b[0moutputs\u001b[0m\u001b[0;34m\u001b[0m\u001b[0;34m\u001b[0m\u001b[0m\n\u001b[1;32m    268\u001b[0m         )\n",
            "\u001b[0;32m/usr/local/lib/python3.10/dist-packages/keras/engine/functional.py\u001b[0m in \u001b[0;36m_map_graph_network\u001b[0;34m(inputs, outputs)\u001b[0m\n\u001b[1;32m   1155\u001b[0m     \u001b[0;32mfor\u001b[0m \u001b[0mname\u001b[0m \u001b[0;32min\u001b[0m \u001b[0mall_names\u001b[0m\u001b[0;34m:\u001b[0m\u001b[0;34m\u001b[0m\u001b[0;34m\u001b[0m\u001b[0m\n\u001b[1;32m   1156\u001b[0m         \u001b[0;32mif\u001b[0m \u001b[0mall_names\u001b[0m\u001b[0;34m.\u001b[0m\u001b[0mcount\u001b[0m\u001b[0;34m(\u001b[0m\u001b[0mname\u001b[0m\u001b[0;34m)\u001b[0m \u001b[0;34m!=\u001b[0m \u001b[0;36m1\u001b[0m\u001b[0;34m:\u001b[0m\u001b[0;34m\u001b[0m\u001b[0;34m\u001b[0m\u001b[0m\n\u001b[0;32m-> 1157\u001b[0;31m             raise ValueError(\n\u001b[0m\u001b[1;32m   1158\u001b[0m                 \u001b[0;34mf'The name \"{name}\" is used {all_names.count(name)} '\u001b[0m\u001b[0;34m\u001b[0m\u001b[0;34m\u001b[0m\u001b[0m\n\u001b[1;32m   1159\u001b[0m                 \u001b[0;34m\"times in the model. All layer names should be unique.\"\u001b[0m\u001b[0;34m\u001b[0m\u001b[0;34m\u001b[0m\u001b[0m\n",
            "\u001b[0;31mValueError\u001b[0m: The name \"Topics\" is used 3 times in the model. All layer names should be unique."
          ]
        }
      ]
    },
    {
      "cell_type": "code",
      "source": [
        "model.compile(optimizer='adam',\n",
        "              loss='categorical_crossentropy',\n",
        "              metrics=[\"accuracy\"])"
      ],
      "metadata": {
        "id": "itgNvbJn99Tf"
      },
      "execution_count": null,
      "outputs": []
    },
    {
      "cell_type": "code",
      "source": [
        "model.evaluate()"
      ],
      "metadata": {
        "colab": {
          "base_uri": "https://localhost:8080/",
          "height": 311
        },
        "id": "e57D-rM4m5X2",
        "outputId": "9380cbb9-f782-4fbc-c535-2426fcd293a1"
      },
      "execution_count": null,
      "outputs": [
        {
          "output_type": "error",
          "ename": "ValueError",
          "evalue": "ignored",
          "traceback": [
            "\u001b[0;31m---------------------------------------------------------------------------\u001b[0m",
            "\u001b[0;31mValueError\u001b[0m                                Traceback (most recent call last)",
            "\u001b[0;32m<ipython-input-18-34717fd9598c>\u001b[0m in \u001b[0;36m<cell line: 1>\u001b[0;34m()\u001b[0m\n\u001b[0;32m----> 1\u001b[0;31m \u001b[0mmodel\u001b[0m\u001b[0;34m.\u001b[0m\u001b[0mevaluate\u001b[0m\u001b[0;34m(\u001b[0m\u001b[0;34m)\u001b[0m\u001b[0;34m\u001b[0m\u001b[0;34m\u001b[0m\u001b[0m\n\u001b[0m",
            "\u001b[0;32m/usr/local/lib/python3.10/dist-packages/keras/utils/traceback_utils.py\u001b[0m in \u001b[0;36merror_handler\u001b[0;34m(*args, **kwargs)\u001b[0m\n\u001b[1;32m     68\u001b[0m             \u001b[0;31m# To get the full stack trace, call:\u001b[0m\u001b[0;34m\u001b[0m\u001b[0;34m\u001b[0m\u001b[0m\n\u001b[1;32m     69\u001b[0m             \u001b[0;31m# `tf.debugging.disable_traceback_filtering()`\u001b[0m\u001b[0;34m\u001b[0m\u001b[0;34m\u001b[0m\u001b[0m\n\u001b[0;32m---> 70\u001b[0;31m             \u001b[0;32mraise\u001b[0m \u001b[0me\u001b[0m\u001b[0;34m.\u001b[0m\u001b[0mwith_traceback\u001b[0m\u001b[0;34m(\u001b[0m\u001b[0mfiltered_tb\u001b[0m\u001b[0;34m)\u001b[0m \u001b[0;32mfrom\u001b[0m \u001b[0;32mNone\u001b[0m\u001b[0;34m\u001b[0m\u001b[0;34m\u001b[0m\u001b[0m\n\u001b[0m\u001b[1;32m     71\u001b[0m         \u001b[0;32mfinally\u001b[0m\u001b[0;34m:\u001b[0m\u001b[0;34m\u001b[0m\u001b[0;34m\u001b[0m\u001b[0m\n\u001b[1;32m     72\u001b[0m             \u001b[0;32mdel\u001b[0m \u001b[0mfiltered_tb\u001b[0m\u001b[0;34m\u001b[0m\u001b[0;34m\u001b[0m\u001b[0m\n",
            "\u001b[0;32m/usr/local/lib/python3.10/dist-packages/keras/engine/data_adapter.py\u001b[0m in \u001b[0;36mselect_data_adapter\u001b[0;34m(x, y)\u001b[0m\n\u001b[1;32m   1080\u001b[0m     \u001b[0;32mif\u001b[0m \u001b[0;32mnot\u001b[0m \u001b[0madapter_cls\u001b[0m\u001b[0;34m:\u001b[0m\u001b[0;34m\u001b[0m\u001b[0;34m\u001b[0m\u001b[0m\n\u001b[1;32m   1081\u001b[0m         \u001b[0;31m# TODO(scottzhu): This should be a less implementation-specific error.\u001b[0m\u001b[0;34m\u001b[0m\u001b[0;34m\u001b[0m\u001b[0m\n\u001b[0;32m-> 1082\u001b[0;31m         raise ValueError(\n\u001b[0m\u001b[1;32m   1083\u001b[0m             \"Failed to find data adapter that can handle input: {}, {}\".format(\n\u001b[1;32m   1084\u001b[0m                 \u001b[0m_type_name\u001b[0m\u001b[0;34m(\u001b[0m\u001b[0mx\u001b[0m\u001b[0;34m)\u001b[0m\u001b[0;34m,\u001b[0m \u001b[0m_type_name\u001b[0m\u001b[0;34m(\u001b[0m\u001b[0my\u001b[0m\u001b[0;34m)\u001b[0m\u001b[0;34m\u001b[0m\u001b[0;34m\u001b[0m\u001b[0m\n",
            "\u001b[0;31mValueError\u001b[0m: Failed to find data adapter that can handle input: <class 'NoneType'>, <class 'NoneType'>"
          ]
        }
      ]
    },
    {
      "cell_type": "code",
      "source": [
        "\"\"\"all_features = tf.keras.layers.concatenate(encoded_features)\n",
        "\n",
        "model = tf.keras.Sequential([\n",
        "    all_features,\n",
        "    layers.Dense(100, activation='relu'),\n",
        "    layers.Dense(50, activation='relu'),\n",
        "    layers.Dense(N_LABELS, activation='linear')\n",
        "    \n",
        "])\n",
        "model.summary\"\"\""
      ],
      "metadata": {
        "colab": {
          "base_uri": "https://localhost:8080/",
          "height": 53
        },
        "id": "Nul1IkOSbvGA",
        "outputId": "5ce21459-20e5-4c16-b591-f06a6bee9809"
      },
      "execution_count": null,
      "outputs": [
        {
          "output_type": "execute_result",
          "data": {
            "text/plain": [
              "\"all_features = tf.keras.layers.concatenate(encoded_features)\\n\\nmodel = tf.keras.Sequential([\\n    all_features,\\n    layers.Dense(100, activation='relu'),\\n    layers.Dense(50, activation='relu'),\\n    layers.Dense(N_LABELS, activation='linear')\\n    \\n])\\nmodel.summary\""
            ],
            "application/vnd.google.colaboratory.intrinsic+json": {
              "type": "string"
            }
          },
          "metadata": {},
          "execution_count": 34
        }
      ]
    },
    {
      "cell_type": "markdown",
      "source": [],
      "metadata": {
        "id": "fZ6XVpOxouBb"
      }
    },
    {
      "cell_type": "code",
      "source": [
        "# Training the model\n",
        "\n",
        "model.fit(train_ds, epochs=100, validation_data=val_ds)"
      ],
      "metadata": {
        "id": "hNa1pzSq3u3V",
        "colab": {
          "base_uri": "https://localhost:8080/"
        },
        "outputId": "50464639-eff7-4308-d695-6b8dfa215514"
      },
      "execution_count": null,
      "outputs": [
        {
          "output_type": "stream",
          "name": "stdout",
          "text": [
            "Epoch 1/100\n",
            "81/81 [==============================] - 0s 3ms/step - loss: 11.3889 - accuracy: 0.0074 - val_loss: 12.2531 - val_accuracy: 0.0000e+00\n",
            "Epoch 2/100\n",
            "81/81 [==============================] - 0s 3ms/step - loss: 11.3920 - accuracy: 0.0074 - val_loss: 12.2581 - val_accuracy: 0.0000e+00\n",
            "Epoch 3/100\n",
            "81/81 [==============================] - 0s 3ms/step - loss: 11.3952 - accuracy: 0.0074 - val_loss: 12.2591 - val_accuracy: 0.0000e+00\n",
            "Epoch 4/100\n",
            "81/81 [==============================] - 0s 3ms/step - loss: 11.3987 - accuracy: 0.0074 - val_loss: 12.2649 - val_accuracy: 0.0000e+00\n",
            "Epoch 5/100\n",
            "81/81 [==============================] - 0s 3ms/step - loss: 11.4015 - accuracy: 0.0074 - val_loss: 12.2679 - val_accuracy: 0.0000e+00\n",
            "Epoch 6/100\n",
            "81/81 [==============================] - 0s 3ms/step - loss: 11.4023 - accuracy: 0.0074 - val_loss: 12.2682 - val_accuracy: 0.0000e+00\n",
            "Epoch 7/100\n",
            "81/81 [==============================] - 0s 3ms/step - loss: 11.4068 - accuracy: 0.0074 - val_loss: 12.2736 - val_accuracy: 0.0000e+00\n",
            "Epoch 8/100\n",
            "81/81 [==============================] - 0s 3ms/step - loss: 11.4117 - accuracy: 0.0074 - val_loss: 12.2776 - val_accuracy: 0.0000e+00\n",
            "Epoch 9/100\n",
            "81/81 [==============================] - 0s 3ms/step - loss: 11.4109 - accuracy: 0.0074 - val_loss: 12.2781 - val_accuracy: 0.0000e+00\n",
            "Epoch 10/100\n",
            "81/81 [==============================] - 0s 4ms/step - loss: 11.4161 - accuracy: 0.0074 - val_loss: 12.2840 - val_accuracy: 0.0000e+00\n",
            "Epoch 11/100\n",
            "81/81 [==============================] - 0s 5ms/step - loss: 11.4190 - accuracy: 0.0074 - val_loss: 12.2867 - val_accuracy: 0.0000e+00\n",
            "Epoch 12/100\n",
            "81/81 [==============================] - 0s 4ms/step - loss: 11.4211 - accuracy: 0.0074 - val_loss: 12.2887 - val_accuracy: 0.0000e+00\n",
            "Epoch 13/100\n",
            "81/81 [==============================] - 0s 5ms/step - loss: 11.4238 - accuracy: 0.0074 - val_loss: 12.2935 - val_accuracy: 0.0000e+00\n",
            "Epoch 14/100\n",
            "81/81 [==============================] - 0s 3ms/step - loss: 11.4275 - accuracy: 0.0074 - val_loss: 12.2961 - val_accuracy: 0.0000e+00\n",
            "Epoch 15/100\n",
            "81/81 [==============================] - 0s 3ms/step - loss: 11.4315 - accuracy: 0.0074 - val_loss: 12.3004 - val_accuracy: 0.0000e+00\n",
            "Epoch 16/100\n",
            "81/81 [==============================] - 0s 3ms/step - loss: 11.4345 - accuracy: 0.0074 - val_loss: 12.3029 - val_accuracy: 0.0000e+00\n",
            "Epoch 17/100\n",
            "81/81 [==============================] - 0s 2ms/step - loss: 11.4360 - accuracy: 0.0074 - val_loss: 12.3063 - val_accuracy: 0.0000e+00\n",
            "Epoch 18/100\n",
            "81/81 [==============================] - 0s 3ms/step - loss: 11.4415 - accuracy: 0.0074 - val_loss: 12.3109 - val_accuracy: 0.0000e+00\n",
            "Epoch 19/100\n",
            "81/81 [==============================] - 0s 3ms/step - loss: 11.4439 - accuracy: 0.0074 - val_loss: 12.3136 - val_accuracy: 0.0000e+00\n",
            "Epoch 20/100\n",
            "81/81 [==============================] - 0s 3ms/step - loss: 11.4444 - accuracy: 0.0074 - val_loss: 12.3151 - val_accuracy: 0.0000e+00\n",
            "Epoch 21/100\n",
            "81/81 [==============================] - 0s 3ms/step - loss: 11.4502 - accuracy: 0.0074 - val_loss: 12.3203 - val_accuracy: 0.0000e+00\n",
            "Epoch 22/100\n",
            "81/81 [==============================] - 0s 3ms/step - loss: 11.4517 - accuracy: 0.0074 - val_loss: 12.3253 - val_accuracy: 0.0000e+00\n",
            "Epoch 23/100\n",
            "81/81 [==============================] - 0s 3ms/step - loss: 11.4580 - accuracy: 0.0074 - val_loss: 12.3286 - val_accuracy: 0.0000e+00\n",
            "Epoch 24/100\n",
            "81/81 [==============================] - 0s 3ms/step - loss: 11.4606 - accuracy: 0.0074 - val_loss: 12.3315 - val_accuracy: 0.0000e+00\n",
            "Epoch 25/100\n",
            "81/81 [==============================] - 0s 3ms/step - loss: 11.4687 - accuracy: 0.0074 - val_loss: 12.3389 - val_accuracy: 0.0000e+00\n",
            "Epoch 26/100\n",
            "81/81 [==============================] - 0s 3ms/step - loss: 11.4685 - accuracy: 0.0074 - val_loss: 12.3399 - val_accuracy: 0.0000e+00\n",
            "Epoch 27/100\n",
            "81/81 [==============================] - 0s 2ms/step - loss: 11.4757 - accuracy: 0.0074 - val_loss: 12.3437 - val_accuracy: 0.0000e+00\n",
            "Epoch 28/100\n",
            "81/81 [==============================] - 0s 3ms/step - loss: 11.4759 - accuracy: 0.0074 - val_loss: 12.3483 - val_accuracy: 0.0000e+00\n",
            "Epoch 29/100\n",
            "81/81 [==============================] - 0s 3ms/step - loss: 11.4792 - accuracy: 0.0074 - val_loss: 12.3520 - val_accuracy: 0.0000e+00\n",
            "Epoch 30/100\n",
            "81/81 [==============================] - 0s 3ms/step - loss: 11.4849 - accuracy: 0.0074 - val_loss: 12.3574 - val_accuracy: 0.0000e+00\n",
            "Epoch 31/100\n",
            "81/81 [==============================] - 0s 3ms/step - loss: 11.4885 - accuracy: 0.0074 - val_loss: 12.3613 - val_accuracy: 0.0000e+00\n",
            "Epoch 32/100\n",
            "81/81 [==============================] - 0s 3ms/step - loss: 11.4892 - accuracy: 0.0074 - val_loss: 12.3634 - val_accuracy: 0.0000e+00\n",
            "Epoch 33/100\n",
            "81/81 [==============================] - 0s 3ms/step - loss: 11.4972 - accuracy: 0.0074 - val_loss: 12.3688 - val_accuracy: 0.0000e+00\n",
            "Epoch 34/100\n",
            "81/81 [==============================] - 0s 3ms/step - loss: 11.4980 - accuracy: 0.0074 - val_loss: 12.3724 - val_accuracy: 0.0000e+00\n",
            "Epoch 35/100\n",
            "81/81 [==============================] - 0s 3ms/step - loss: 11.5032 - accuracy: 0.0074 - val_loss: 12.3780 - val_accuracy: 0.0000e+00\n",
            "Epoch 36/100\n",
            "81/81 [==============================] - 0s 3ms/step - loss: 11.5073 - accuracy: 0.0074 - val_loss: 12.3810 - val_accuracy: 0.0000e+00\n",
            "Epoch 37/100\n",
            "81/81 [==============================] - 0s 3ms/step - loss: 11.5127 - accuracy: 0.0074 - val_loss: 12.3871 - val_accuracy: 0.0000e+00\n",
            "Epoch 38/100\n",
            "81/81 [==============================] - 0s 3ms/step - loss: 11.5144 - accuracy: 0.0074 - val_loss: 12.3887 - val_accuracy: 0.0000e+00\n",
            "Epoch 39/100\n",
            "81/81 [==============================] - 0s 3ms/step - loss: 11.5190 - accuracy: 0.0074 - val_loss: 12.3947 - val_accuracy: 0.0000e+00\n",
            "Epoch 40/100\n",
            "81/81 [==============================] - 0s 3ms/step - loss: 11.5204 - accuracy: 0.0074 - val_loss: 12.3961 - val_accuracy: 0.0000e+00\n",
            "Epoch 41/100\n",
            "81/81 [==============================] - 0s 3ms/step - loss: 11.5287 - accuracy: 0.0074 - val_loss: 12.4036 - val_accuracy: 0.0000e+00\n",
            "Epoch 42/100\n",
            "81/81 [==============================] - 0s 3ms/step - loss: 11.5296 - accuracy: 0.0074 - val_loss: 12.4050 - val_accuracy: 0.0000e+00\n",
            "Epoch 43/100\n",
            "81/81 [==============================] - 0s 3ms/step - loss: 11.5334 - accuracy: 0.0074 - val_loss: 12.4090 - val_accuracy: 0.0000e+00\n",
            "Epoch 44/100\n",
            "81/81 [==============================] - 0s 3ms/step - loss: 11.5360 - accuracy: 0.0074 - val_loss: 12.4142 - val_accuracy: 0.0000e+00\n",
            "Epoch 45/100\n",
            "81/81 [==============================] - 0s 3ms/step - loss: 11.5416 - accuracy: 0.0074 - val_loss: 12.4190 - val_accuracy: 0.0000e+00\n",
            "Epoch 46/100\n",
            "81/81 [==============================] - 0s 3ms/step - loss: 11.5470 - accuracy: 0.0074 - val_loss: 12.4217 - val_accuracy: 0.0000e+00\n",
            "Epoch 47/100\n",
            "81/81 [==============================] - 0s 3ms/step - loss: 11.5477 - accuracy: 0.0074 - val_loss: 12.4259 - val_accuracy: 0.0000e+00\n",
            "Epoch 48/100\n",
            "81/81 [==============================] - 0s 4ms/step - loss: 11.5528 - accuracy: 0.0074 - val_loss: 12.4300 - val_accuracy: 0.0000e+00\n",
            "Epoch 49/100\n",
            "81/81 [==============================] - 0s 4ms/step - loss: 11.5546 - accuracy: 0.0074 - val_loss: 12.4346 - val_accuracy: 0.0000e+00\n",
            "Epoch 50/100\n",
            "81/81 [==============================] - 0s 4ms/step - loss: 11.5622 - accuracy: 0.0074 - val_loss: 12.4407 - val_accuracy: 0.0000e+00\n",
            "Epoch 51/100\n",
            "81/81 [==============================] - 0s 4ms/step - loss: 11.5643 - accuracy: 0.0074 - val_loss: 12.4425 - val_accuracy: 0.0000e+00\n",
            "Epoch 52/100\n",
            "81/81 [==============================] - 0s 3ms/step - loss: 11.5675 - accuracy: 0.0074 - val_loss: 12.4461 - val_accuracy: 0.0000e+00\n",
            "Epoch 53/100\n",
            "81/81 [==============================] - 0s 3ms/step - loss: 11.5708 - accuracy: 0.0074 - val_loss: 12.4519 - val_accuracy: 0.0000e+00\n",
            "Epoch 54/100\n",
            "81/81 [==============================] - 0s 3ms/step - loss: 11.5738 - accuracy: 0.0074 - val_loss: 12.4554 - val_accuracy: 0.0000e+00\n",
            "Epoch 55/100\n",
            "81/81 [==============================] - 0s 3ms/step - loss: 11.5773 - accuracy: 0.0074 - val_loss: 12.4580 - val_accuracy: 0.0000e+00\n",
            "Epoch 56/100\n",
            "81/81 [==============================] - 0s 3ms/step - loss: 11.5863 - accuracy: 0.0074 - val_loss: 12.4632 - val_accuracy: 0.0000e+00\n",
            "Epoch 57/100\n",
            "81/81 [==============================] - 0s 3ms/step - loss: 11.5861 - accuracy: 0.0074 - val_loss: 12.4672 - val_accuracy: 0.0000e+00\n",
            "Epoch 58/100\n",
            "81/81 [==============================] - 0s 3ms/step - loss: 11.5918 - accuracy: 0.0074 - val_loss: 12.4723 - val_accuracy: 0.0000e+00\n",
            "Epoch 59/100\n",
            "81/81 [==============================] - 0s 3ms/step - loss: 11.5931 - accuracy: 0.0074 - val_loss: 12.4744 - val_accuracy: 0.0000e+00\n",
            "Epoch 60/100\n",
            "81/81 [==============================] - 0s 3ms/step - loss: 11.5989 - accuracy: 0.0074 - val_loss: 12.4791 - val_accuracy: 0.0000e+00\n",
            "Epoch 61/100\n",
            "81/81 [==============================] - 0s 3ms/step - loss: 11.6018 - accuracy: 0.0074 - val_loss: 12.4821 - val_accuracy: 0.0000e+00\n",
            "Epoch 62/100\n",
            "81/81 [==============================] - 0s 3ms/step - loss: 11.6040 - accuracy: 0.0074 - val_loss: 12.4853 - val_accuracy: 0.0000e+00\n",
            "Epoch 63/100\n",
            "81/81 [==============================] - 0s 3ms/step - loss: 11.6080 - accuracy: 0.0074 - val_loss: 12.4916 - val_accuracy: 0.0000e+00\n",
            "Epoch 64/100\n",
            "81/81 [==============================] - 0s 3ms/step - loss: 11.6139 - accuracy: 0.0074 - val_loss: 12.4944 - val_accuracy: 0.0000e+00\n",
            "Epoch 65/100\n",
            "81/81 [==============================] - 0s 3ms/step - loss: 11.6164 - accuracy: 0.0074 - val_loss: 12.4997 - val_accuracy: 0.0000e+00\n",
            "Epoch 66/100\n",
            "81/81 [==============================] - 0s 3ms/step - loss: 11.6225 - accuracy: 0.0074 - val_loss: 12.5057 - val_accuracy: 0.0000e+00\n",
            "Epoch 67/100\n",
            "81/81 [==============================] - 0s 2ms/step - loss: 11.6276 - accuracy: 0.0074 - val_loss: 12.5092 - val_accuracy: 0.0000e+00\n",
            "Epoch 68/100\n",
            "81/81 [==============================] - 0s 3ms/step - loss: 11.6294 - accuracy: 0.0074 - val_loss: 12.5136 - val_accuracy: 0.0000e+00\n",
            "Epoch 69/100\n",
            "81/81 [==============================] - 0s 3ms/step - loss: 11.6357 - accuracy: 0.0074 - val_loss: 12.5185 - val_accuracy: 0.0000e+00\n",
            "Epoch 70/100\n",
            "81/81 [==============================] - 0s 3ms/step - loss: 11.6408 - accuracy: 0.0074 - val_loss: 12.5231 - val_accuracy: 0.0000e+00\n",
            "Epoch 71/100\n",
            "81/81 [==============================] - 0s 3ms/step - loss: 11.6440 - accuracy: 0.0074 - val_loss: 12.5263 - val_accuracy: 0.0000e+00\n",
            "Epoch 72/100\n",
            "81/81 [==============================] - 0s 3ms/step - loss: 11.6482 - accuracy: 0.0074 - val_loss: 12.5331 - val_accuracy: 0.0000e+00\n",
            "Epoch 73/100\n",
            "81/81 [==============================] - 0s 3ms/step - loss: 11.6497 - accuracy: 0.0074 - val_loss: 12.5371 - val_accuracy: 0.0000e+00\n",
            "Epoch 74/100\n",
            "81/81 [==============================] - 0s 3ms/step - loss: 11.6529 - accuracy: 0.0074 - val_loss: 12.5404 - val_accuracy: 0.0000e+00\n",
            "Epoch 75/100\n",
            "81/81 [==============================] - 0s 3ms/step - loss: 11.6586 - accuracy: 0.0074 - val_loss: 12.5462 - val_accuracy: 0.0000e+00\n",
            "Epoch 76/100\n",
            "81/81 [==============================] - 0s 3ms/step - loss: 11.6615 - accuracy: 0.0074 - val_loss: 12.5492 - val_accuracy: 0.0000e+00\n",
            "Epoch 77/100\n",
            "81/81 [==============================] - 0s 3ms/step - loss: 11.6693 - accuracy: 0.0074 - val_loss: 12.5560 - val_accuracy: 0.0000e+00\n",
            "Epoch 78/100\n",
            "81/81 [==============================] - 0s 3ms/step - loss: 11.6725 - accuracy: 0.0074 - val_loss: 12.5607 - val_accuracy: 0.0000e+00\n",
            "Epoch 79/100\n",
            "81/81 [==============================] - 0s 3ms/step - loss: 11.6763 - accuracy: 0.0074 - val_loss: 12.5656 - val_accuracy: 0.0000e+00\n",
            "Epoch 80/100\n",
            "81/81 [==============================] - 0s 3ms/step - loss: 11.6837 - accuracy: 0.0074 - val_loss: 12.5697 - val_accuracy: 0.0000e+00\n",
            "Epoch 81/100\n",
            "81/81 [==============================] - 0s 3ms/step - loss: 11.6821 - accuracy: 0.0074 - val_loss: 12.5695 - val_accuracy: 0.0000e+00\n",
            "Epoch 82/100\n",
            "81/81 [==============================] - 0s 3ms/step - loss: 11.6927 - accuracy: 0.0074 - val_loss: 12.5791 - val_accuracy: 0.0000e+00\n",
            "Epoch 83/100\n",
            "81/81 [==============================] - 0s 3ms/step - loss: 11.6933 - accuracy: 0.0074 - val_loss: 12.5813 - val_accuracy: 0.0000e+00\n",
            "Epoch 84/100\n",
            "81/81 [==============================] - 0s 3ms/step - loss: 11.6987 - accuracy: 0.0074 - val_loss: 12.5889 - val_accuracy: 0.0000e+00\n",
            "Epoch 85/100\n",
            "81/81 [==============================] - 0s 4ms/step - loss: 11.6992 - accuracy: 0.0074 - val_loss: 12.5880 - val_accuracy: 0.0000e+00\n",
            "Epoch 86/100\n",
            "81/81 [==============================] - 0s 4ms/step - loss: 11.7038 - accuracy: 0.0074 - val_loss: 12.5957 - val_accuracy: 0.0000e+00\n",
            "Epoch 87/100\n",
            "81/81 [==============================] - 0s 4ms/step - loss: 11.7071 - accuracy: 0.0074 - val_loss: 12.5979 - val_accuracy: 0.0000e+00\n",
            "Epoch 88/100\n",
            "81/81 [==============================] - 0s 5ms/step - loss: 11.7129 - accuracy: 0.0074 - val_loss: 12.6067 - val_accuracy: 0.0000e+00\n",
            "Epoch 89/100\n",
            "81/81 [==============================] - 0s 3ms/step - loss: 11.7161 - accuracy: 0.0074 - val_loss: 12.6071 - val_accuracy: 0.0000e+00\n",
            "Epoch 90/100\n",
            "81/81 [==============================] - 0s 3ms/step - loss: 11.7207 - accuracy: 0.0074 - val_loss: 12.6117 - val_accuracy: 0.0000e+00\n",
            "Epoch 91/100\n",
            "81/81 [==============================] - 0s 3ms/step - loss: 11.7244 - accuracy: 0.0074 - val_loss: 12.6168 - val_accuracy: 0.0000e+00\n",
            "Epoch 92/100\n",
            "81/81 [==============================] - 0s 3ms/step - loss: 11.7300 - accuracy: 0.0074 - val_loss: 12.6222 - val_accuracy: 0.0000e+00\n",
            "Epoch 93/100\n",
            "81/81 [==============================] - 0s 3ms/step - loss: 11.7342 - accuracy: 0.0074 - val_loss: 12.6255 - val_accuracy: 0.0000e+00\n",
            "Epoch 94/100\n",
            "81/81 [==============================] - 0s 3ms/step - loss: 11.7353 - accuracy: 0.0074 - val_loss: 12.6284 - val_accuracy: 0.0000e+00\n",
            "Epoch 95/100\n",
            "81/81 [==============================] - 0s 3ms/step - loss: 11.7389 - accuracy: 0.0074 - val_loss: 12.6340 - val_accuracy: 0.0000e+00\n",
            "Epoch 96/100\n",
            "81/81 [==============================] - 0s 3ms/step - loss: 11.7456 - accuracy: 0.0074 - val_loss: 12.6398 - val_accuracy: 0.0000e+00\n",
            "Epoch 97/100\n",
            "81/81 [==============================] - 0s 3ms/step - loss: 11.7521 - accuracy: 0.0074 - val_loss: 12.6442 - val_accuracy: 0.0000e+00\n",
            "Epoch 98/100\n",
            "81/81 [==============================] - 0s 3ms/step - loss: 11.7533 - accuracy: 0.0074 - val_loss: 12.6461 - val_accuracy: 0.0000e+00\n",
            "Epoch 99/100\n",
            "81/81 [==============================] - 0s 3ms/step - loss: 11.7589 - accuracy: 0.0074 - val_loss: 12.6540 - val_accuracy: 0.0000e+00\n",
            "Epoch 100/100\n",
            "81/81 [==============================] - 0s 3ms/step - loss: 11.7600 - accuracy: 0.0074 - val_loss: 12.6552 - val_accuracy: 0.0000e+00\n"
          ]
        },
        {
          "output_type": "execute_result",
          "data": {
            "text/plain": [
              "<keras.callbacks.History at 0x7f64b3bdf3a0>"
            ]
          },
          "metadata": {},
          "execution_count": 21
        }
      ]
    },
    {
      "cell_type": "code",
      "source": [
        "# Evaluate the model's accuracy\n",
        "\n",
        "loss, accuracy = model.evaluate(test_ds)\n",
        "print(\"Accuracy\", accuracy)"
      ],
      "metadata": {
        "id": "b-EV9MVEBRBI",
        "colab": {
          "base_uri": "https://localhost:8080/"
        },
        "outputId": "ab02a83a-d7a3-4c35-f5b4-23a390870510"
      },
      "execution_count": null,
      "outputs": [
        {
          "output_type": "stream",
          "name": "stdout",
          "text": [
            "10/10 [==============================] - 0s 2ms/step - loss: nan - accuracy: 0.1200\n",
            "Accuracy 0.11999999731779099\n"
          ]
        }
      ]
    },
    {
      "cell_type": "code",
      "source": [],
      "metadata": {
        "id": "O6bxsKX1q6xI"
      },
      "execution_count": null,
      "outputs": []
    }
  ]
}